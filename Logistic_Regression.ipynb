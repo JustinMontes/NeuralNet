{
 "cells": [
  {
   "cell_type": "markdown",
   "metadata": {},
   "source": [
    "# Maching Learning - Logistic Regression\n",
    "## Team Members:\n",
    "### Justin Montes, Briana Mayes\n",
    "\n",
    "CS440/640\n",
    "\n",
    "\n",
    "<br>      This code is about how to implement Logistic Regression                                                                      \n",
    "\n"
   ]
  },
  {
   "cell_type": "code",
   "execution_count": 46,
   "metadata": {},
   "outputs": [],
   "source": [
    "# Import Python libraries\n",
    "import numpy as np    # numpy is the fundamental package for scientific computing with Python, such linear algebra, array...\n",
    "import matplotlib.pyplot as plt      # matplotlib is a Python 2D plotting library which produces publication quality figures."
   ]
  },
  {
   "cell_type": "markdown",
   "metadata": {},
   "source": [
    "## Logistic Regression Model \n"
   ]
  },
  {
   "cell_type": "code",
   "execution_count": 47,
   "metadata": {},
   "outputs": [],
   "source": [
    "class LogisticRegression:\n",
    "    \"\"\"\n",
    "    This lab implements a Logistic Regression Classifier.\n",
    "    \"\"\"\n",
    "    \n",
    "    def __init__(self, input_dim, output_dim):\n",
    "        \"\"\"\n",
    "        Initializes the parameters of the logistic regression classifer to \n",
    "        random values.\n",
    "        \n",
    "        args:\n",
    "            input_dim: Number of dimensions of the input data\n",
    "            output_dim: Number of classes\n",
    "        \"\"\"\n",
    "        \n",
    "        self.theta =  ( np.random.randn(input_dim, output_dim) / np.sqrt(input_dim) ) \n",
    "        self.bias = np.random.rand(1,  output_dim)\n",
    "        \n",
    "        self.theta2 = np.random.randn(input_dim, output_dim) / np.sqrt(input_dim)      \n",
    "        self.bias2 = np.random.rand(1,  output_dim)\n",
    "        \n",
    "        self.theta3 = np.random.randn(input_dim, output_dim) / np.sqrt(input_dim)       \n",
    "        self.bias3 = np.random.rand(1,  output_dim)\n",
    "        \n",
    "        self.theta4 = np.random.randn(input_dim, output_dim) / np.sqrt(input_dim)      \n",
    "        self.bias4 = np.random.rand(1,  output_dim)\n",
    "        \n",
    "        self.theta5 = np.random.randn(input_dim, output_dim) / np.sqrt(input_dim)      \n",
    "        self.bias5 = np.random.rand(1,  output_dim)\n",
    "        \n",
    "        self.theta6 = np.random.randn(input_dim, output_dim) / np.sqrt(input_dim)      \n",
    "        self.bias6 = np.random.rand(1,  output_dim)\n",
    "        \n",
    "        self.theta7 = np.random.randn(input_dim, output_dim) / np.sqrt(input_dim)      \n",
    "        self.bias7 = np.random.rand(1,  output_dim)\n",
    "        \n",
    "        self.theta8 = np.random.randn(input_dim, output_dim) / np.sqrt(input_dim)      \n",
    "        self.bias8 = np.random.rand(1,  output_dim)\n",
    "        \n",
    "        self.theta9 = np.random.randn(input_dim, output_dim) / np.sqrt(input_dim)      \n",
    "        self.bias9 = np.random.rand(1,  output_dim)\n",
    "        \n",
    "        self.theta10 = np.random.randn(input_dim, output_dim) / np.sqrt(input_dim)        \n",
    "        self.bias10 = np.random.rand(1,  output_dim)\n",
    "        \n",
    "        self.theta11 = np.random.randn(input_dim, output_dim) / np.sqrt(input_dim)      \n",
    "        self.bias11 = np.random.rand(1,  output_dim)\n",
    "        \n",
    "        self.theta12 = np.random.randn(input_dim, output_dim) / np.sqrt(input_dim)      \n",
    "        self.bias12 = np.random.rand(1,  output_dim)\n",
    "        \n",
    "        self.theta13 = np.random.randn(input_dim, output_dim) / np.sqrt(input_dim)      \n",
    "        self.bias13 = np.random.rand(1,  output_dim)\n",
    "        \n",
    "        self.theta14 = np.random.randn(input_dim, output_dim) / np.sqrt(input_dim)      \n",
    "        self.bias14 = np.random.rand(1,  output_dim)\n",
    "    #--------------------------------------------------------------------------\n",
    "    \n",
    "    def compute_cost(self,X, y):\n",
    "        \"\"\"\n",
    "        Computes the total cost on the dataset.\n",
    "        \n",
    "        args:\n",
    "            X: Data array\n",
    "            y: Labels corresponding to input data\n",
    "        \n",
    "        returns:\n",
    "            cost: average cost per data sample\n",
    "        \"\"\"\n",
    "        num_examples = np.shape(X)[0]\n",
    "        z = np.dot(X,self.theta) + self.bias\n",
    "        exp_z = np.exp(z)\n",
    "        softmax_scores = exp_z / np.sum(exp_z, axis=1, keepdims=True)\n",
    "        \n",
    "        one_hot_y = np.zeros((num_examples,np.max(y)+1))\n",
    "        logloss = np.zeros((num_examples,))        \n",
    "        for i in range(np.shape(X)[0]):\n",
    "            one_hot_y[i,y[i]] = 1\n",
    "            logloss[i] = -np.sum(np.log(softmax_scores[i,:]) * one_hot_y[i,:])\n",
    "        data_loss = np.sum(logloss)\n",
    "        return 1./num_examples * data_loss\n",
    "\n",
    "    \n",
    "    #--------------------------------------------------------------------------\n",
    "\n",
    " \n",
    "    def predict(self,X):\n",
    "        \"\"\"\n",
    "        Makes a prediction based on current model parameters.\n",
    "        \n",
    "        args:\n",
    "            X: Data array\n",
    "            \n",
    "        returns:\n",
    "            predictions: array of predicted labels\n",
    "        \"\"\"\n",
    "        z = np.dot(X,self.theta) + self.bias\n",
    "        exp_z = np.exp(z)\n",
    "        softmax_scores = exp_z / (exp_z + 1)\n",
    "        predictions = np.argmax(softmax_scores, axis = 1)\n",
    "        return predictions\n",
    "    \n",
    "    #--------------------------------------------------------------------------\n",
    "    # intuition:\n",
    "\n",
    "        \n",
    "    #--------------------------------------------------------------------------\n",
    "    # implement logistic regression using gradient descent \n",
    "    #--------------------------------------------------------------------------\n",
    "    def fit(self,X,y,num_epochs,alpha=0.01):\n",
    "    \n",
    "        #Learns model parameters to fit the data.\n",
    "        \n",
    "        learning_rate = 0.0004\n",
    "\n",
    "        # regularize \n",
    "        # 1/2 lamda w^2 where lamda in this case is our regularization strength or learning rate\n",
    "        # equivalent to weight += -lambda * weight\n",
    "        self.theta += (.5 * learning_rate * self.theta**2)\n",
    "        self.theta2 += (.5 * learning_rate * self.theta2**2)\n",
    "        self.theta3 += (.5 * learning_rate * self.theta3**2)\n",
    "        self.theta4 += (.5 * learning_rate * self.theta4**2)\n",
    "        self.theta5 += (.5 * learning_rate * self.theta5**2)\n",
    "        self.theta6 += (.5 * learning_rate * self.theta6**2)\n",
    "        self.theta7 += (.5 * learning_rate * self.theta7**2)\n",
    "        self.theta8 += (.5 * learning_rate * self.theta8**2)\n",
    "        self.theta9 += (.5 * learning_rate * self.theta9**2)\n",
    "        self.theta10 += (.5 * learning_rate * self.theta10**2)\n",
    "        self.theta11 += (.5 * learning_rate * self.theta11**2)\n",
    "        self.theta12 += (.5 * learning_rate * self.theta12**2)\n",
    "        self.theta13 += (.5 * learning_rate * self.theta13**2)\n",
    "        self.theta14 += (.5 * learning_rate * self.theta14**2)\n",
    "\n",
    "        for epoch in range(0, num_epochs):\n",
    "\n",
    "            # Forward propagation\n",
    "            \n",
    "            # input layer\n",
    "            a1 = X\n",
    "            \n",
    "            #hidden layers\n",
    "            # tanh calculates hyperbolic tangent for all x in array\n",
    "\n",
    "            z2 = np.dot(X,self.theta) + self.bias + 2\n",
    "            a2 = np.tanh(z2)\n",
    "            z3 = np.dot(a2,self.theta2) + self.bias2 + 2\n",
    "            a3 = np.tanh(z3)\n",
    "            z4 = np.dot(a3, self.theta3) + self.bias3 + 2\n",
    "            a4 = np.tanh(z4)\n",
    "            z5 = np.dot(a4, self.theta4) + self.bias4 + 2 \n",
    "            a5 = np.tanh(z5)\n",
    "            z6 = np.dot(a5, self.theta5) + self.bias5 - 2\n",
    "            a6 = np.tanh(z6)\n",
    "            z7 = np.dot(a6, self.theta6) + self.bias6 - 2\n",
    "            a7 = np.tanh(z7)\n",
    "            z8 = np.dot(a7, self.theta7) + self.bias7 + 2\n",
    "            a8 = np.tanh(z8)\n",
    "            z9 = np.dot(a8, self.theta8) + self.bias8 + 2\n",
    "            a9 = np.tanh(z9)\n",
    "            z10 = np.dot(a9, self.theta9) + self.bias9 + 2\n",
    "            a10 = np.tanh(z10)\n",
    "            z11 = np.dot(a10, self.theta10) + self.bias10 + 2\n",
    "            a11 = np.tanh(z11)\n",
    "            z12 = np.dot(a11, self.theta11) + self.bias11 + 2\n",
    "            a12 = np.tanh(z12)\n",
    "            z13 = np.dot(a12, self.theta12) + self.bias12 + 2\n",
    "            a13 = np.tanh(z13)\n",
    "            z14 = np.dot(a13, self.theta13) + self.bias13 + 2\n",
    "            a14 = np.tanh(z14)\n",
    "            \n",
    "            \n",
    "            # output layer\n",
    "            exp_z = np.exp(z14)\n",
    "            \n",
    "            softmax_scores = exp_z / np.sum(exp_z, axis=1, keepdims=True)\n",
    "            #softmax_scores = exp_z / (exp_z + 1)\n",
    "     \n",
    "            # Backpropagation            \n",
    "            beta = np.zeros_like(softmax_scores)\n",
    "            one_hot_y = np.zeros_like(softmax_scores)\n",
    "            for i in range(X.shape[0]):\n",
    "                one_hot_y[i,y[i]] = 1\n",
    "            \n",
    "            # recusion needesd\n",
    "            beta14 = softmax_scores - one_hot_y\n",
    "            beta13 = np.dot(beta14, self.theta14) * (1 - np.power(a14, 2))\n",
    "            beta12 = np.dot(beta13, self.theta13) * (1 - np.power(a13, 2))\n",
    "            beta11 = np.dot(beta12, self.theta12) * (1 - np.power(a12, 2))\n",
    "            beta10 = np.dot(beta11, self.theta11) * (1 - np.power(a11, 2))\n",
    "            beta9 = np.dot(beta10, self.theta10) * (1 - np.power(a10, 2))\n",
    "            beta8 = np.dot(beta9, self.theta9) * (1 - np.power(a9, 2))\n",
    "            beta7 = np.dot(beta8, self.theta8) * (1 - np.power(a8, 2))\n",
    "            beta6 = np.dot(beta7, self.theta7) * (1 - np.power(a7, 2))\n",
    "            beta5 = np.dot(beta6, self.theta6) * (1 - np.power(a6, 2))\n",
    "            beta4 = np.dot(beta5, self.theta5) * (1 - np.power(a5, 2))\n",
    "            beta3 = np.dot(beta4, self.theta4) * (1 - np.power(a4, 2))\n",
    "            beta2 = np.dot(beta3, self.theta3) * (1 - np.power(a3, 2))\n",
    "            beta = np.dot(beta2, self.theta2) * (1 - np.power(a2, 2))\n",
    "                        \n",
    "            # Compute gradients of model parameters\n",
    "            dtheta = np.dot(X.T,beta)\n",
    "            dtheta2 = np.dot(a2.T,beta2)\n",
    "            dtheta3 = np.dot(a3.T, beta3)\n",
    "            dtheta4 = np.dot(a4.T, beta4)\n",
    "            dtheta5 = np.dot(a5.T, beta5)\n",
    "            dtheta6 = np.dot(a6.T, beta6)\n",
    "            dtheta7 = np.dot(a7.T, beta7)\n",
    "            dtheta8 = np.dot(a8.T, beta8)\n",
    "            dtheta9 = np.dot(a9.T, beta9)\n",
    "            dtheta10 = np.dot(a10.T, beta10)\n",
    "            dtheta11 = np.dot(a11.T, beta11)\n",
    "            dtheta12 = np.dot(a12.T, beta12)\n",
    "            dtheta13 = np.dot(a13.T, beta13)\n",
    "            dtheta14 = np.dot(a14.T, beta14)\n",
    "            \n",
    "            dbias = np.sum(beta, axis=0)\n",
    "            dbias2 = np.sum(beta2, axis=0)\n",
    "            dbias3 = np.sum(beta3, axis=0)\n",
    "            dbias4 = np.sum(beta4, axis=0)\n",
    "            dbias5 = np.sum(beta5, axis=0)\n",
    "            dbias6 = np.sum(beta6, axis=0)\n",
    "            dbias7 = np.sum(beta7, axis=0)\n",
    "            dbias8 = np.sum(beta8, axis=0)\n",
    "            dbias9 = np.sum(beta9, axis=0)\n",
    "            dbias9 = np.sum(beta9, axis=0)\n",
    "            dbias10 = np.sum(beta10, axis=0)\n",
    "            dbias11 = np.sum(beta11, axis=0)\n",
    "            dbias12 = np.sum(beta12, axis=0)\n",
    "            dbias13 = np.sum(beta13, axis=0)\n",
    "            dbias14 = np.sum(beta14, axis=0)\n",
    "            \n",
    "\n",
    "\n",
    "    \n",
    "            # Gradient descent parameter update\n",
    "            self.theta -= alpha * dtheta\n",
    "            self.theta2 -= alpha * dtheta2\n",
    "            self.theta3 -= alpha * dtheta3\n",
    "            self.theta4 -= alpha * dtheta4\n",
    "            self.theta5 -= alpha * dtheta5\n",
    "            self.theta6 -= alpha * dtheta6\n",
    "            self.theta7 -= alpha * dtheta7\n",
    "            self.theta8 -= alpha * dtheta8\n",
    "            self.theta9 -= alpha * dtheta9\n",
    "            self.theta10 -= alpha * dtheta10\n",
    "            self.theta11 -= alpha * dtheta11\n",
    "            self.theta12 -= alpha * dtheta12\n",
    "            self.theta13 -= alpha * dtheta13\n",
    "            self.theta14 -= alpha * dtheta14\n",
    "\n",
    "\n",
    "        return 0"
   ]
  },
  {
   "cell_type": "code",
   "execution_count": 48,
   "metadata": {},
   "outputs": [],
   "source": [
    "def plot_decision_boundary(model, X, y):\n",
    "    \"\"\"\n",
    "    Function to print the decision boundary given by model.\n",
    "    \n",
    "    args:\n",
    "        model: model, whose parameters are used to plot the decision boundary.\n",
    "        X: input data\n",
    "        y: input labels\n",
    "    \"\"\"\n",
    "    \n",
    "    x1_array, x2_array = np.meshgrid(np.arange(-10, 10, 0.01), np.arange(-10, 10, 0.01))\n",
    "    grid_coordinates = np.c_[x1_array.ravel(), x2_array.ravel()]\n",
    "    Z = model.predict(grid_coordinates)\n",
    "    Z = Z.reshape(x1_array.shape)\n",
    "    plt.contourf(x1_array, x2_array, Z, cmap=plt.cm.bwr)\n",
    "    plt.scatter(X[:, 0], X[:, 1], c=y, cmap=plt.cm.bwr)\n",
    "    plt.show()"
   ]
  },
  {
   "cell_type": "markdown",
   "metadata": {},
   "source": [
    "## Data Analysis Basics"
   ]
  },
  {
   "cell_type": "code",
   "execution_count": 49,
   "metadata": {},
   "outputs": [],
   "source": [
    "#1. Load data\n",
    "X = np.genfromtxt('DATA/data_nonLinearX.csv', delimiter=',') #https://docs.scipy.org/doc/numpy/reference/generated/numpy.genfromtxt.html\n",
    "y = np.genfromtxt('DATA/data_nonLinearY.csv', delimiter=',').astype(np.int64)"
   ]
  },
  {
   "cell_type": "code",
   "execution_count": 50,
   "metadata": {},
   "outputs": [
    {
     "data": {
      "image/png": "[encoded data removed]",
      "text/plain": [
       "<Figure size 432x288 with 1 Axes>"
      ]
     },
     "metadata": {
      "needs_background": "light"
     },
     "output_type": "display_data"
    }
   ],
   "source": [
    "#2. plot data\n",
    "plt.scatter(X[:,0], X[:,1], c=y, cmap=plt.cm.bwr) #http://matplotlib.org/api/pyplot_api.html#matplotlib.pyplot.scatter\n",
    "plt.show()"
   ]
  },
  {
   "cell_type": "code",
   "execution_count": 51,
   "metadata": {},
   "outputs": [],
   "source": [
    "#3. Initialize model\n",
    "input_dim = np.shape(X)[1]\n",
    "output_dim = np.max(y) + 1\n",
    "logreg = LogisticRegression(input_dim, output_dim)"
   ]
  },
  {
   "cell_type": "code",
   "execution_count": 52,
   "metadata": {},
   "outputs": [
    {
     "data": {
      "image/png": "[encoded data removed]",
      "text/plain": [
       "<Figure size 432x288 with 1 Axes>"
      ]
     },
     "metadata": {
      "needs_background": "light"
     },
     "output_type": "display_data"
    }
   ],
   "source": [
    "#4. Plot decision boundary\n",
    "plot_decision_boundary(logreg, X, y)"
   ]
  },
  {
   "cell_type": "markdown",
   "metadata": {},
   "source": [
    "## Train Classification Model\n",
    "**Classification** tries to predict, which of a small set of classes, a sample in a population belongs to. Mathematically, the aim is to find $y$, a **label** based on knowing a feature vector $X$."
   ]
  },
  {
   "cell_type": "code",
   "execution_count": 53,
   "metadata": {},
   "outputs": [
    {
     "data": {
      "text/plain": [
       "0"
      ]
     },
     "execution_count": 53,
     "metadata": {},
     "output_type": "execute_result"
    }
   ],
   "source": [
    "#5. Train the model\n",
    "logreg.fit(X,y,1000,alpha=0.01)"
   ]
  },
  {
   "cell_type": "code",
   "execution_count": 54,
   "metadata": {},
   "outputs": [
    {
     "data": {
      "image/png": "[encoded data removed]",
      "text/plain": [
       "<Figure size 432x288 with 1 Axes>"
      ]
     },
     "metadata": {
      "needs_background": "light"
     },
     "output_type": "display_data"
    }
   ],
   "source": [
    "#6. Plot decision boundary after trainning\n",
    "plot_decision_boundary(logreg, X, y)\n"
   ]
  },
  {
   "cell_type": "markdown",
   "metadata": {},
   "source": [
    "## Model Evaluation"
   ]
  },
  {
   "cell_type": "code",
   "execution_count": 55,
   "metadata": {},
   "outputs": [
    {
     "name": "stdout",
     "output_type": "stream",
     "text": [
      "ACCURACY:  0.552\n",
      "CONFUSION MATRIX: \n",
      " [[500. 396.]\n",
      " [500. 604.]]\n"
     ]
    }
   ],
   "source": [
    "# 7. Compute accuracy and confusion matrix\n",
    "acc = 0\n",
    "y_pred = logreg.predict(X)\n",
    "con_mat = np.zeros((output_dim, output_dim))\n",
    "for i in range(len(y_pred)):\n",
    "    con_mat[y_pred[i], y[i]] += 1\n",
    "    if y[i] == y_pred[i]:\n",
    "        acc += 1\n",
    "acc = acc/len(y_pred)\n",
    "print ('ACCURACY: ', acc)\n",
    "print ('CONFUSION MATRIX: \\n', con_mat)"
   ]
  },
  {
   "cell_type": "markdown",
   "metadata": {},
   "source": [
    "# Linear Data Set"
   ]
  },
  {
   "cell_type": "code",
   "execution_count": 56,
   "metadata": {},
   "outputs": [],
   "source": [
    "# Load data\n",
    "X2 = np.genfromtxt('DATA/data_linearX.csv', delimiter=',') #https://docs.scipy.org/doc/numpy/reference/generated/numpy.genfromtxt.html\n",
    "y2 = np.genfromtxt('DATA/data_linearY.csv', delimiter=',').astype(np.int64)"
   ]
  },
  {
   "cell_type": "markdown",
   "metadata": {},
   "source": [
    "## Train Classification Model\n",
    "**Classification** tries to predict, which of a small set of classes, a sample in a population belongs to. Mathematically, the aim is to find $y$, a **label** based on knowing a feature vector $X$."
   ]
  },
  {
   "cell_type": "code",
   "execution_count": 57,
   "metadata": {},
   "outputs": [
    {
     "data": {
      "image/png": "[encoded data removed]",
      "text/plain": [
       "<Figure size 432x288 with 1 Axes>"
      ]
     },
     "metadata": {
      "needs_background": "light"
     },
     "output_type": "display_data"
    }
   ],
   "source": [
    "# Train\n",
    "logreg.fit(X2,y2,1000,alpha=0.01)\n",
    "#Plot decision boundary after trainning\n",
    "plot_decision_boundary(logreg, X2, y2)"
   ]
  },
  {
   "cell_type": "code",
   "execution_count": 58,
   "metadata": {},
   "outputs": [
    {
     "name": "stdout",
     "output_type": "stream",
     "text": [
      "ACCURACY:  0.9935\n",
      "CONFUSION MATRIX: \n",
      " [[991.   4.]\n",
      " [  9. 996.]]\n"
     ]
    }
   ],
   "source": [
    "# Compute accuracy and confusion matrix\n",
    "acc2 = 0\n",
    "y_pred2 = logreg.predict(X2)\n",
    "con_mat2 = np.zeros((output_dim, output_dim))\n",
    "for i in range(len(y_pred2)):\n",
    "    con_mat2[y_pred2[i], y2[i]] += 1\n",
    "    if y2[i] == y_pred2[i]:\n",
    "        acc2 += 1\n",
    "acc2 = acc2/len(y_pred2)\n",
    "print ('ACCURACY: ', acc2)\n",
    "print ('CONFUSION MATRIX: \\n', con_mat2)"
   ]
  },
  {
   "cell_type": "markdown",
   "metadata": {},
   "source": [
    "## 5-fold round robin cross-validation"
   ]
  },
  {
   "cell_type": "code",
   "execution_count": 59,
   "metadata": {},
   "outputs": [
    {
     "name": "stdout",
     "output_type": "stream",
     "text": [
      "Non-linear Set\n",
      "\n",
      "ACCURACY:  0.534375\n",
      "CONFUSION MATRIX: \n",
      " [[74. 64.]\n",
      " [85. 97.]]\n",
      "\n",
      "ACCURACY:  0.50625\n",
      "CONFUSION MATRIX: \n",
      " [[ 87.  56.]\n",
      " [ 70. 107.]]\n",
      "\n",
      "ACCURACY:  0.4625\n",
      "CONFUSION MATRIX: \n",
      " [[ 73.  66.]\n",
      " [ 81. 100.]]\n",
      "\n",
      "ACCURACY:  0.559375\n",
      "CONFUSION MATRIX: \n",
      " [[87. 65.]\n",
      " [71. 97.]]\n",
      "\n",
      "ACCURACY:  0.51875\n",
      "CONFUSION MATRIX: \n",
      " [[88. 63.]\n",
      " [88. 81.]]\n",
      "\n",
      "\n",
      "Linear Set\n",
      "\n",
      "ACCURACY:  0.99375\n",
      "CONFUSION MATRIX: \n",
      " [[172.   1.]\n",
      " [  1. 146.]]\n",
      "\n",
      "ACCURACY:  0.515625\n",
      "CONFUSION MATRIX: \n",
      " [[144.   0.]\n",
      " [  1. 175.]]\n",
      "\n",
      "ACCURACY:  0.5\n",
      "CONFUSION MATRIX: \n",
      " [[165.   0.]\n",
      " [  1. 154.]]\n",
      "\n",
      "ACCURACY:  0.496875\n",
      "CONFUSION MATRIX: \n",
      " [[160.   2.]\n",
      " [  2. 156.]]\n",
      "\n",
      "ACCURACY:  0.5\n",
      "CONFUSION MATRIX: \n",
      " [[150.   1.]\n",
      " [  2. 167.]]\n",
      "\n"
     ]
    }
   ],
   "source": [
    "# 5-fold round robin cross-validation\n",
    "\n",
    "\n",
    "# Split data Non-Linear\n",
    "X_split_1 = X[:320]\n",
    "X_split_2 = X[320:640]\n",
    "X_split_3 = X[640:960]\n",
    "X_split_4 = X[960:1280]\n",
    "X_split_5 = X[1280:1600]\n",
    "\n",
    "y_split_1 = y[:320]\n",
    "y_split_2 = y[320:640]\n",
    "y_split_3 = y[640:960]\n",
    "y_split_4 = y[960:1280]\n",
    "y_split_5 = y[1280:1600]\n",
    "\n",
    "X_set = [X_split_1, X_split_2, X_split_3, X_split_4, X_split_5]\n",
    "                \n",
    "y_set = [y_split_1, y_split_2, y_split_3, y_split_4, y_split_5]\n",
    "\n",
    "# Split data Linear\n",
    "\n",
    "X2_split_1 = X2[:320]\n",
    "X2_split_2 = X2[320:640]\n",
    "X2_split_3 = X2[640:960]\n",
    "X2_split_4 = X2[960:1280]\n",
    "X2_split_5 = X2[1280:1600]\n",
    "\n",
    "y2_split_1 = y2[:320]\n",
    "y2_split_2 = y2[320:640]\n",
    "y2_split_3 = y2[640:960]\n",
    "y2_split_4 = y2[960:1280]\n",
    "y2_split_5 = y2[1280:1600]\n",
    "                \n",
    "X2_set = [X2_split_1, X2_split_2, X2_split_3, X2_split_4, X2_split_5]\n",
    "                \n",
    "y2_set = [y2_split_1, y2_split_2, y2_split_3, y2_split_4, y2_split_5]\n",
    "\n",
    "print(\"Non-linear Set\")\n",
    "print()\n",
    "for i in range(5):\n",
    "    acc = 0\n",
    "    y_pred = logreg.predict(X_set[i])\n",
    "    con_mat = np.zeros((output_dim, output_dim))\n",
    "    for j in range(len(y_pred)):\n",
    "        con_mat[y_pred[j], y_set[i][j]] += 1\n",
    "        if y[j] == y_pred[j]:\n",
    "            acc += 1\n",
    "    acc = acc/len(y_pred)\n",
    "    print ('ACCURACY: ', acc)\n",
    "    print ('CONFUSION MATRIX: \\n', con_mat)\n",
    "    print()\n",
    "\n",
    "print()\n",
    "print(\"Linear Set\")\n",
    "print()\n",
    "for i in range(5):\n",
    "    acc2 = 0\n",
    "    y_pred2 = logreg.predict(X2_set[i])\n",
    "    con_mat2 = np.zeros((output_dim, output_dim))\n",
    "    for j in range(len(y_pred2)):\n",
    "        con_mat2[y_pred2[j], y2_set[i][j]] += 1\n",
    "        if y2[j] == y_pred2[j]:\n",
    "            acc2 += 1\n",
    "    acc2 = acc2/len(y_pred2)\n",
    "    print ('ACCURACY: ', acc2)\n",
    "    print ('CONFUSION MATRIX: \\n', con_mat2)\n",
    "    print()"
   ]
  },
  {
   "cell_type": "markdown",
   "metadata": {},
   "source": [
    "## What effect does the learning rate have on how your neural network is trained? Illustrate your answer by training your model using different learning rates. Use a script to generate output statistics and visualize them."
   ]
  },
  {
   "cell_type": "code",
   "execution_count": 15,
   "metadata": {},
   "outputs": [
    {
     "data": {
      "text/plain": [
       "\"\\nThe learning rate refers to the 'step size' of a neural network. In other words, the learning rate could be thought\\nof as the amount of changes made to the model during each step of the search [for the random weights].\\n\\n\""
      ]
     },
     "execution_count": 15,
     "metadata": {},
     "output_type": "execute_result"
    }
   ],
   "source": [
    "'''\n",
    "The learning rate refers to the 'step size' of a neural network. In other words, the learning rate could be thought\n",
    "of as the amount of changes made to the model during each step of the search [for the random weights].\n",
    "\n",
    "'''"
   ]
  },
  {
   "cell_type": "code",
   "execution_count": null,
   "metadata": {},
   "outputs": [],
   "source": [
    "# Output Statistics "
   ]
  },
  {
   "cell_type": "markdown",
   "metadata": {},
   "source": [
    "## What is overfitting and why does it occur in practice? Name and briefly explain 3 ways to reduce overfitting"
   ]
  },
  {
   "cell_type": "code",
   "execution_count": null,
   "metadata": {},
   "outputs": [],
   "source": [
    "'''\n",
    "Overfitting is using too many variables when trying to make predicitons. This is caused by very high variartion\n",
    "and very little to no bias. It occurs when a typically overly complex model handles \n",
    "noise and new data in such a way that it negatively impacts its performance.\n",
    "\n",
    "\n",
    "3 ways to reduce overfitting:\n",
    "\n",
    "1. Use a validation data set to better estimate how well your model has been trained.\n",
    "\n",
    "2. Reduce the number of layers or the number of elements in the hidden layers in the network.\n",
    "\n",
    "3. Apply regularization. This can be done by adding a cost to the loss function for large weights.\n",
    "\n",
    "'''"
   ]
  },
  {
   "cell_type": "markdown",
   "metadata": {},
   "source": [
    "## L2 regularization"
   ]
  },
  {
   "cell_type": "markdown",
   "metadata": {},
   "source": [
    "### How does L2 regularization prevent overfitting? \n",
    "L2 Regularization prevents overfitting by reducing the variance of [my] estimator by simplifying it.\n",
    "\n",
    "\n",
    "### Implement L2 regularization.:\n",
    "See above code\n",
    "\n",
    "\n",
    "### How differently does your model perform before and after implementing L2 regularization?\n",
    "Before the implementation of L2 Regularization, the model preformed adequatly, however after implementation the model began to show signs of major improvement in most cases in regards to the linear data set. In regards to the non-linear data set, the accuracy imperoved but not quiet by as much."
   ]
  },
  {
   "cell_type": "code",
   "execution_count": 114,
   "metadata": {},
   "outputs": [
    {
     "name": "stdout",
     "output_type": "stream",
     "text": [
      "Cost of the non-linear data set 1.7843226681841635\n",
      "Cost of the linear data set 0.1445658475601279\n",
      "\n",
      "\n"
     ]
    }
   ],
   "source": [
    "# Costs:\n",
    "cost_non_linear = logreg.compute_cost(X, y)\n",
    "cost_linear = logreg.compute_cost(X2, y2)\n",
    "print(\"Cost of the non-linear data set\", cost_non_linear)\n",
    "print(\"Cost of the linear data set\", cost_linear)\n",
    "print(\"\\n\")"
   ]
  },
  {
   "cell_type": "markdown",
   "metadata": {},
   "source": [
    "# Extra Credit"
   ]
  },
  {
   "cell_type": "code",
   "execution_count": 134,
   "metadata": {},
   "outputs": [],
   "source": [
    "# Load data\n",
    "XDigit_Train = np.genfromtxt('DATA/Digit_X_train.csv', delimiter=',') \n",
    "yDigit_Train = np.genfromtxt('DATA/Digit_y_train.csv', delimiter=',').astype(np.int64)\n",
    "\n",
    "XDigit_Test = np.genfromtxt('DATA/Digit_X_test.csv', delimiter=',') \n",
    "yDigit_Test = np.genfromtxt('DATA/Digit_y_test.csv', delimiter=',').astype(np.int64)"
   ]
  },
  {
   "cell_type": "markdown",
   "metadata": {},
   "source": [
    "## Test"
   ]
  },
  {
   "cell_type": "code",
   "execution_count": 165,
   "metadata": {},
   "outputs": [
    {
     "ename": "ValueError",
     "evalue": "shapes (899,10) and (64,10) not aligned: 10 (dim 1) != 64 (dim 0)",
     "output_type": "error",
     "traceback": [
      "\u001b[0;31m---------------------------------------------------------------------------\u001b[0m",
      "\u001b[0;31mValueError\u001b[0m                                Traceback (most recent call last)",
      "\u001b[0;32m<ipython-input-165-0670d3101712>\u001b[0m in \u001b[0;36m<module>\u001b[0;34m\u001b[0m\n\u001b[1;32m      5\u001b[0m \u001b[0mtest\u001b[0m \u001b[0;34m=\u001b[0m \u001b[0mLogisticRegression\u001b[0m\u001b[0;34m(\u001b[0m\u001b[0mtest_input_dim\u001b[0m\u001b[0;34m,\u001b[0m \u001b[0mtest_output_dim\u001b[0m\u001b[0;34m)\u001b[0m\u001b[0;34m\u001b[0m\u001b[0;34m\u001b[0m\u001b[0m\n\u001b[1;32m      6\u001b[0m \u001b[0;34m\u001b[0m\u001b[0m\n\u001b[0;32m----> 7\u001b[0;31m \u001b[0mtest\u001b[0m\u001b[0;34m.\u001b[0m\u001b[0mfit\u001b[0m\u001b[0;34m(\u001b[0m\u001b[0mXDigit_Test\u001b[0m\u001b[0;34m,\u001b[0m\u001b[0myDigit_Test\u001b[0m\u001b[0;34m,\u001b[0m\u001b[0;36m1000\u001b[0m\u001b[0;34m,\u001b[0m\u001b[0malpha\u001b[0m\u001b[0;34m=\u001b[0m\u001b[0;36m0.01\u001b[0m\u001b[0;34m)\u001b[0m\u001b[0;34m\u001b[0m\u001b[0;34m\u001b[0m\u001b[0m\n\u001b[0m\u001b[1;32m      8\u001b[0m \u001b[0;34m\u001b[0m\u001b[0m\n\u001b[1;32m      9\u001b[0m \u001b[0;31m# Train\u001b[0m\u001b[0;34m\u001b[0m\u001b[0;34m\u001b[0m\u001b[0;34m\u001b[0m\u001b[0m\n",
      "\u001b[0;32m<ipython-input-101-d73fa6ec9db9>\u001b[0m in \u001b[0;36mfit\u001b[0;34m(self, X, y, num_epochs, alpha)\u001b[0m\n\u001b[1;32m    144\u001b[0m             \u001b[0mz2\u001b[0m \u001b[0;34m=\u001b[0m \u001b[0mnp\u001b[0m\u001b[0;34m.\u001b[0m\u001b[0mdot\u001b[0m\u001b[0;34m(\u001b[0m\u001b[0mX\u001b[0m\u001b[0;34m,\u001b[0m\u001b[0mself\u001b[0m\u001b[0;34m.\u001b[0m\u001b[0mtheta\u001b[0m\u001b[0;34m)\u001b[0m \u001b[0;34m+\u001b[0m \u001b[0mself\u001b[0m\u001b[0;34m.\u001b[0m\u001b[0mbias\u001b[0m \u001b[0;34m+\u001b[0m \u001b[0;36m2\u001b[0m\u001b[0;34m\u001b[0m\u001b[0;34m\u001b[0m\u001b[0m\n\u001b[1;32m    145\u001b[0m             \u001b[0ma2\u001b[0m \u001b[0;34m=\u001b[0m \u001b[0mnp\u001b[0m\u001b[0;34m.\u001b[0m\u001b[0mtanh\u001b[0m\u001b[0;34m(\u001b[0m\u001b[0mz2\u001b[0m\u001b[0;34m)\u001b[0m\u001b[0;34m\u001b[0m\u001b[0;34m\u001b[0m\u001b[0m\n\u001b[0;32m--> 146\u001b[0;31m             \u001b[0mz3\u001b[0m \u001b[0;34m=\u001b[0m \u001b[0mnp\u001b[0m\u001b[0;34m.\u001b[0m\u001b[0mdot\u001b[0m\u001b[0;34m(\u001b[0m\u001b[0ma2\u001b[0m\u001b[0;34m,\u001b[0m\u001b[0mself\u001b[0m\u001b[0;34m.\u001b[0m\u001b[0mtheta2\u001b[0m\u001b[0;34m)\u001b[0m \u001b[0;34m+\u001b[0m \u001b[0mself\u001b[0m\u001b[0;34m.\u001b[0m\u001b[0mbias2\u001b[0m \u001b[0;34m+\u001b[0m \u001b[0;36m2\u001b[0m\u001b[0;34m\u001b[0m\u001b[0;34m\u001b[0m\u001b[0m\n\u001b[0m\u001b[1;32m    147\u001b[0m             \u001b[0ma3\u001b[0m \u001b[0;34m=\u001b[0m \u001b[0mnp\u001b[0m\u001b[0;34m.\u001b[0m\u001b[0mtanh\u001b[0m\u001b[0;34m(\u001b[0m\u001b[0mz3\u001b[0m\u001b[0;34m)\u001b[0m\u001b[0;34m\u001b[0m\u001b[0;34m\u001b[0m\u001b[0m\n\u001b[1;32m    148\u001b[0m             \u001b[0mz4\u001b[0m \u001b[0;34m=\u001b[0m \u001b[0mnp\u001b[0m\u001b[0;34m.\u001b[0m\u001b[0mdot\u001b[0m\u001b[0;34m(\u001b[0m\u001b[0ma3\u001b[0m\u001b[0;34m,\u001b[0m \u001b[0mself\u001b[0m\u001b[0;34m.\u001b[0m\u001b[0mtheta3\u001b[0m\u001b[0;34m)\u001b[0m \u001b[0;34m+\u001b[0m \u001b[0mself\u001b[0m\u001b[0;34m.\u001b[0m\u001b[0mbias3\u001b[0m \u001b[0;34m+\u001b[0m \u001b[0;36m2\u001b[0m\u001b[0;34m\u001b[0m\u001b[0;34m\u001b[0m\u001b[0m\n",
      "\u001b[0;31mValueError\u001b[0m: shapes (899,10) and (64,10) not aligned: 10 (dim 1) != 64 (dim 0)"
     ]
    }
   ],
   "source": [
    "# Init model\n",
    "\n",
    "test_input_dim = np.shape(XDigit_Test)[1]\n",
    "test_output_dim = np.max(yDigit_Test) + 1\n",
    "test = LogisticRegression(test_input_dim, test_output_dim)\n",
    "\n",
    "test.fit(XDigit_Test,yDigit_Test,1000,alpha=0.01)\n",
    "\n",
    "# Train\n",
    "#Plot decision boundary after trainning\n",
    "plot_decision_boundary(test, XDigit_Test, yDigit_Test)\n",
    "\n",
    "# Test\n",
    "#Stats\n",
    "acc_test = 0\n",
    "y_pred_test = test.predict(XDigit_Test)\n",
    "con_mat_test = np.zeros((test_output_dim, test_output_dim))\n",
    "for i in range(len(y_pred_test)):\n",
    "    con_mat_test[y_pred_test[i], yDigit_Test[i]] += 1\n",
    "    if yDigit_Test[i] == y_pred_test[i]:\n",
    "        acc_test += 1\n",
    "acc_test = acc_test/len(y_pred_test)\n",
    "print ('ACCURACY: ', acc_test)\n",
    "print ('CONFUSION MATRIX: \\n', con_mat_test)"
   ]
  },
  {
   "cell_type": "code",
   "execution_count": null,
   "metadata": {},
   "outputs": [],
   "source": []
  },
  {
   "cell_type": "code",
   "execution_count": null,
   "metadata": {},
   "outputs": [],
   "source": []
  }
 ],
 "metadata": {
  "kernelspec": {
   "display_name": "Python 3",
   "language": "python",
   "name": "python3"
  },
  "language_info": {
   "codemirror_mode": {
    "name": "ipython",
    "version": 3
   },
   "file_extension": ".py",
   "mimetype": "text/x-python",
   "name": "python",
   "nbconvert_exporter": "python",
   "pygments_lexer": "ipython3",
   "version": "3.7.2"
  }
 },
 "nbformat": 4,
 "nbformat_minor": 2
}
